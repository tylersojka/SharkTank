{
 "cells": [
  {
   "cell_type": "code",
   "execution_count": 12,
   "id": "639f8016",
   "metadata": {},
   "outputs": [],
   "source": [
    "import pandas as pd\n",
    "import uuid\n",
    "from sqlalchemy import create_engine"
   ]
  },
  {
   "cell_type": "code",
   "execution_count": 13,
   "id": "923f72d9",
   "metadata": {},
   "outputs": [
    {
     "data": {
      "text/html": [
       "<div>\n",
       "<style scoped>\n",
       "    .dataframe tbody tr th:only-of-type {\n",
       "        vertical-align: middle;\n",
       "    }\n",
       "\n",
       "    .dataframe tbody tr th {\n",
       "        vertical-align: top;\n",
       "    }\n",
       "\n",
       "    .dataframe thead th {\n",
       "        text-align: right;\n",
       "    }\n",
       "</style>\n",
       "<table border=\"1\" class=\"dataframe\">\n",
       "  <thead>\n",
       "    <tr style=\"text-align: right;\">\n",
       "      <th></th>\n",
       "      <th>team_id</th>\n",
       "      <th>team_name</th>\n",
       "    </tr>\n",
       "  </thead>\n",
       "  <tbody>\n",
       "    <tr>\n",
       "      <th>0</th>\n",
       "      <td>1</td>\n",
       "      <td>Talk Data To Me</td>\n",
       "    </tr>\n",
       "    <tr>\n",
       "      <th>1</th>\n",
       "      <td>2</td>\n",
       "      <td>A-Team</td>\n",
       "    </tr>\n",
       "    <tr>\n",
       "      <th>2</th>\n",
       "      <td>3</td>\n",
       "      <td>Data Doctors</td>\n",
       "    </tr>\n",
       "    <tr>\n",
       "      <th>3</th>\n",
       "      <td>4</td>\n",
       "      <td>NaN</td>\n",
       "    </tr>\n",
       "    <tr>\n",
       "      <th>4</th>\n",
       "      <td>5</td>\n",
       "      <td>Group 5</td>\n",
       "    </tr>\n",
       "    <tr>\n",
       "      <th>5</th>\n",
       "      <td>6</td>\n",
       "      <td>Group 6</td>\n",
       "    </tr>\n",
       "    <tr>\n",
       "      <th>6</th>\n",
       "      <td>7</td>\n",
       "      <td>Staff</td>\n",
       "    </tr>\n",
       "  </tbody>\n",
       "</table>\n",
       "</div>"
      ],
      "text/plain": [
       "   team_id        team_name\n",
       "0        1  Talk Data To Me\n",
       "1        2           A-Team\n",
       "2        3     Data Doctors\n",
       "3        4              NaN\n",
       "4        5          Group 5\n",
       "5        6          Group 6\n",
       "6        7            Staff"
      ]
     },
     "execution_count": 13,
     "metadata": {},
     "output_type": "execute_result"
    }
   ],
   "source": [
    "teams_data = {\n",
    "    \"team_id\": [1, 2, 3, 4, 5, 6, 7],\n",
    "    \"team_name\": [\"Talk Data To Me\", \"A-Team\", \"Data Doctors\", \"NaN\", \"Group 5\", \"Group 6\", \"Staff\"]\n",
    "}\n",
    "teams = pd.DataFrame(data=teams_data)\n",
    "teams"
   ]
  },
  {
   "cell_type": "code",
   "execution_count": 14,
   "id": "c30c3da0",
   "metadata": {},
   "outputs": [
    {
     "data": {
      "text/html": [
       "<div>\n",
       "<style scoped>\n",
       "    .dataframe tbody tr th:only-of-type {\n",
       "        vertical-align: middle;\n",
       "    }\n",
       "\n",
       "    .dataframe tbody tr th {\n",
       "        vertical-align: top;\n",
       "    }\n",
       "\n",
       "    .dataframe thead th {\n",
       "        text-align: right;\n",
       "    }\n",
       "</style>\n",
       "<table border=\"1\" class=\"dataframe\">\n",
       "  <thead>\n",
       "    <tr style=\"text-align: right;\">\n",
       "      <th></th>\n",
       "      <th>user_id</th>\n",
       "      <th>user_name</th>\n",
       "      <th>team_id</th>\n",
       "      <th>coins</th>\n",
       "      <th>password</th>\n",
       "    </tr>\n",
       "  </thead>\n",
       "  <tbody>\n",
       "    <tr>\n",
       "      <th>0</th>\n",
       "      <td>5a100e52-7c1b-4ffd-aeea-725c65bdce32</td>\n",
       "      <td>rebekahCK</td>\n",
       "      <td>7</td>\n",
       "      <td>100</td>\n",
       "      <td>password</td>\n",
       "    </tr>\n",
       "    <tr>\n",
       "      <th>1</th>\n",
       "      <td>110e4741-24a2-43a0-806c-157f3d250ad6</td>\n",
       "      <td>tylerS</td>\n",
       "      <td>7</td>\n",
       "      <td>100</td>\n",
       "      <td>password</td>\n",
       "    </tr>\n",
       "  </tbody>\n",
       "</table>\n",
       "</div>"
      ],
      "text/plain": [
       "                                user_id  user_name  team_id  coins  password\n",
       "0  5a100e52-7c1b-4ffd-aeea-725c65bdce32  rebekahCK        7    100  password\n",
       "1  110e4741-24a2-43a0-806c-157f3d250ad6     tylerS        7    100  password"
      ]
     },
     "execution_count": 14,
     "metadata": {},
     "output_type": "execute_result"
    }
   ],
   "source": [
    "user_data = {\n",
    "    \"user_id\": [str(uuid.uuid4()), str(uuid.uuid4())],\n",
    "    \"user_name\": [\"rebekahCK\", \"tylerS\"],\n",
    "    \"team_id\": [7, 7],\n",
    "    \"coins\": [100, 100],\n",
    "    \"password\": [\"password\", \"password\"]\n",
    "}\n",
    "users = pd.DataFrame(data=user_data)\n",
    "users"
   ]
  },
  {
   "cell_type": "code",
   "execution_count": 15,
   "id": "08f7ee2a",
   "metadata": {},
   "outputs": [
    {
     "data": {
      "text/html": [
       "<div>\n",
       "<style scoped>\n",
       "    .dataframe tbody tr th:only-of-type {\n",
       "        vertical-align: middle;\n",
       "    }\n",
       "\n",
       "    .dataframe tbody tr th {\n",
       "        vertical-align: top;\n",
       "    }\n",
       "\n",
       "    .dataframe thead th {\n",
       "        text-align: right;\n",
       "    }\n",
       "</style>\n",
       "<table border=\"1\" class=\"dataframe\">\n",
       "  <thead>\n",
       "    <tr style=\"text-align: right;\">\n",
       "      <th></th>\n",
       "      <th>team_id</th>\n",
       "      <th>user_id</th>\n",
       "      <th>coin_amount</th>\n",
       "    </tr>\n",
       "  </thead>\n",
       "  <tbody>\n",
       "    <tr>\n",
       "      <th>0</th>\n",
       "      <td>1</td>\n",
       "      <td>5a100e52-7c1b-4ffd-aeea-725c65bdce32</td>\n",
       "      <td>20</td>\n",
       "    </tr>\n",
       "    <tr>\n",
       "      <th>1</th>\n",
       "      <td>2</td>\n",
       "      <td>5a100e52-7c1b-4ffd-aeea-725c65bdce32</td>\n",
       "      <td>30</td>\n",
       "    </tr>\n",
       "    <tr>\n",
       "      <th>2</th>\n",
       "      <td>1</td>\n",
       "      <td>110e4741-24a2-43a0-806c-157f3d250ad6</td>\n",
       "      <td>40</td>\n",
       "    </tr>\n",
       "    <tr>\n",
       "      <th>3</th>\n",
       "      <td>3</td>\n",
       "      <td>110e4741-24a2-43a0-806c-157f3d250ad6</td>\n",
       "      <td>40</td>\n",
       "    </tr>\n",
       "  </tbody>\n",
       "</table>\n",
       "</div>"
      ],
      "text/plain": [
       "   team_id                               user_id  coin_amount\n",
       "0        1  5a100e52-7c1b-4ffd-aeea-725c65bdce32           20\n",
       "1        2  5a100e52-7c1b-4ffd-aeea-725c65bdce32           30\n",
       "2        1  110e4741-24a2-43a0-806c-157f3d250ad6           40\n",
       "3        3  110e4741-24a2-43a0-806c-157f3d250ad6           40"
      ]
     },
     "execution_count": 15,
     "metadata": {},
     "output_type": "execute_result"
    }
   ],
   "source": [
    "user_one = users.iat[0,0]\n",
    "user_two = users.iat[1,0]\n",
    "assigned_coins_data = {\n",
    "    \"team_id\": [1, 2, 1, 3],\n",
    "    \"user_id\": [user_one, user_one, user_two, user_two],\n",
    "    \"coin_amount\": [20, 30, 40, 40],\n",
    "}\n",
    "assigned_coins = pd.DataFrame(data=assigned_coins_data)\n",
    "assigned_coins"
   ]
  },
  {
   "cell_type": "code",
   "execution_count": 16,
   "id": "2c397000",
   "metadata": {},
   "outputs": [
    {
     "name": "stdout",
     "output_type": "stream",
     "text": [
      "[(1, '5a100e52-7c1b-4ffd-aeea-725c65bdce32', 20), (2, '5a100e52-7c1b-4ffd-aeea-725c65bdce32', 30), (1, '110e4741-24a2-43a0-806c-157f3d250ad6', 40), (3, '110e4741-24a2-43a0-806c-157f3d250ad6', 40)]\n",
      "[(1, 'Talk Data To Me'), (2, 'A-Team'), (3, 'Data Doctors'), (4, 'NaN'), (5, 'Group 5'), (6, 'Group 6'), (7, 'Staff')]\n",
      "[('5a100e52-7c1b-4ffd-aeea-725c65bdce32', 'rebekahCK', 7, 100, 'password'), ('110e4741-24a2-43a0-806c-157f3d250ad6', 'tylerS', 7, 100, 'password')]\n"
     ]
    }
   ],
   "source": [
    "engine = create_engine('sqlite:///shark_tank.db',\n",
    "                       echo = False)\n",
    "connection = engine.raw_connection()\n",
    "\n",
    "# attach the data frame to the sql db\n",
    "teams.to_sql('teams',\n",
    "               connection, index=False, if_exists=\"replace\")\n",
    "users.to_sql(\"users\", connection, index=False, if_exists=\"replace\")\n",
    "assigned_coins.to_sql(\"assigned_coins\", connection, index=False, if_exists=\"replace\")\n",
    "\n",
    "# show the complete data from item_info table\n",
    "print(engine.execute(\"SELECT * FROM assigned_coins\").fetchall())\n",
    "print(engine.execute(\"SELECT * FROM teams\").fetchall())\n",
    "print(engine.execute(\"SELECT * FROM users\").fetchall())"
   ]
  },
  {
   "cell_type": "code",
   "execution_count": null,
   "id": "8354060b",
   "metadata": {},
   "outputs": [],
   "source": []
  }
 ],
 "metadata": {
  "kernelspec": {
   "display_name": "Python 3 (ipykernel)",
   "language": "python",
   "name": "python3"
  },
  "language_info": {
   "codemirror_mode": {
    "name": "ipython",
    "version": 3
   },
   "file_extension": ".py",
   "mimetype": "text/x-python",
   "name": "python",
   "nbconvert_exporter": "python",
   "pygments_lexer": "ipython3",
   "version": "3.7.6"
  }
 },
 "nbformat": 4,
 "nbformat_minor": 5
}
